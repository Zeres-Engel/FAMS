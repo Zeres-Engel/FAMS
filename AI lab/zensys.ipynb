{
 "cells": [
  {
   "attachments": {},
   "cell_type": "markdown",
   "metadata": {},
   "source": [
    "# ZenFace Asian Face Recognition Model"
   ]
  },
  {
   "attachments": {},
   "cell_type": "markdown",
   "metadata": {},
   "source": [
    "# Table of Content\n",
    "- [LOAD DATA](#Load-Data)\n",
    "- [DATA ANALYSIS](#Data-Analysis)\n",
    "- [DATA PREPROCESSING](#Data-Preprocessing)\n",
    "- [BULDING MODEL](#Building-Model)\n",
    "- [EVALUATION AND TESTING](#Evaluation-and-Testing)\n",
    "- [TESTING THE OTHERS COMPANY](#Testing-on-the-others-company)"
   ]
  },
  {
   "cell_type": "code",
   "execution_count": null,
   "metadata": {
    "vscode": {
     "languageId": "plaintext"
    }
   },
   "outputs": [],
   "source": []
  }
 ],
 "metadata": {
  "kernelspec": {
   "display_name": "Python 3",
   "language": "python",
   "name": "python3"
  },
  "language_info": {
   "codemirror_mode": {
    "name": "ipython",
    "version": 3
   },
   "file_extension": ".py",
   "mimetype": "text/x-python",
   "name": "python",
   "nbconvert_exporter": "python",
   "pygments_lexer": "ipython3",
   "version": "3.9.16"
  },
  "orig_nbformat": 4
 },
 "nbformat": 4,
 "nbformat_minor": 2
}
